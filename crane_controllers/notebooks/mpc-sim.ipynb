{
 "cells": [
  {
   "cell_type": "code",
   "execution_count": 2,
   "metadata": {},
   "outputs": [],
   "source": [
    "import numpy as np \n",
    "import pickle\n",
    "import casadi as cs\n",
    "import matplotlib.pyplot as plt "
   ]
  },
  {
   "cell_type": "markdown",
   "metadata": {},
   "source": [
    "# MPC"
   ]
  },
  {
   "cell_type": "markdown",
   "metadata": {},
   "source": [
    "## Load simulated data"
   ]
  },
  {
   "cell_type": "code",
   "execution_count": 5,
   "metadata": {},
   "outputs": [],
   "source": [
    "def load():\n",
    "    f = open(\n",
    "        '/home/lars/crane_ws/src/crane/crane_controllers/data/datain.pickle', 'rb')\n",
    "    datain = pickle.load(f)\n",
    "    f.close()\n",
    "    f = open(\n",
    "        '/home/lars/crane_ws/src/crane/crane_controllers/data/dataout.pickle', 'rb')\n",
    "    dataout = pickle.load(f)\n",
    "    f.close()\n",
    "    return datain, dataout"
   ]
  },
  {
   "cell_type": "code",
   "execution_count": 6,
   "metadata": {},
   "outputs": [],
   "source": [
    "datain, dataout = load()\n",
    "\n",
    "last_gopts = datain['last_gopt']\n",
    "last_gs = datain['last_g']\n",
    "Ls = datain['L']\n",
    "ks = datain['k']\n",
    "gammas = datain['gamma']\n",
    "ts = datain['t']\n",
    "zrefs = datain['zref']\n",
    "zs = datain['z']\n",
    "\n",
    "dot_wxs = dataout['dot_wx']\n",
    "dot_wys = dataout['dot_wy']\n",
    "gxs = dataout['gx']\n",
    "gys = dataout['gy']"
   ]
  },
  {
   "cell_type": "code",
   "execution_count": 7,
   "metadata": {},
   "outputs": [],
   "source": [
    "def cs_continuous_dynamics():\n",
    "    kp = cs.SX.sym('kp')\n",
    "    kd = cs.SX.sym('kd')\n",
    "    k = cs.vertcat(kp, kd)\n",
    "    \n",
    "    L = cs.SX.sym('L')\n",
    "\n",
    "    x0 = cs.SX.sym('x0')\n",
    "    dx0 = cs.SX.sym('dx0')\n",
    "    y0 = cs.SX.sym('y0')\n",
    "    dy0 = cs.SX.sym('dy0')\n",
    "    phix = cs.SX.sym('phix')\n",
    "    dphix = cs.SX.sym('dphix')\n",
    "    phiy = cs.SX.sym('phiy')\n",
    "    dphiy = cs.SX.sym('dphiy')\n",
    "    z = cs.vertcat(x0, dx0, y0, dy0, phix, dphix, phiy, dphiy)\n",
    "    \n",
    "    cx = cs.SX.cos(phix)\n",
    "    sx = cs.SX.sin(phix)\n",
    "    cy = cs.SX.cos(phiy)\n",
    "    sy = cs.SX.sin(phiy)\n",
    "    \n",
    "    gx = cs.SX.sym('gx')\n",
    "    gy = cs.SX.sym('gy')\n",
    "    g = cs.vertcat(gx, gy)\n",
    "\n",
    "    dzdt = cs.SX.sym('dzdt', 8,1)\n",
    "\n",
    "    uy = - L*cy/cx*(kd*dphix + kp*phix) - 2.0*L*sy / \\\n",
    "        cx*dphix*dphiy + 9.81*sx*sy*sy/cx\n",
    "\n",
    "    # Eq 51-54 in Ecc\n",
    "    dzdt[0] = dx0  # dx0\n",
    "    dzdt[1] = gx + (L*(kd*dphiy + kp*phiy) - L*cy*sy *\n",
    "                    dphix*dphix - uy*sx*sy)/cy  # ddx0\n",
    "    dzdt[2] = dy0  # dy0\n",
    "    dzdt[3] = gy - (L*cy*(kd*dphix + kp*phix) + 2.0*L*sy *\n",
    "                    dphix*dphiy - 9.81*sx*sy*sy)/cx  # ddy0\n",
    "    dzdt[4] = z[5]  # dphix\n",
    "    dzdt[5] = (-kd*dphix) - (kp*phix) - \\\n",
    "        (9.81/L*cy*sx) + (gy*cx/(cy*L))  # ddphix\n",
    "    dzdt[6] = z[7]  # dphiy\n",
    "    dzdt[7] = (-kd*dphiy) - (kp*phiy) - (9.81 / L * cx*sy) - \\\n",
    "        ((gx*cy + gy*sx*sy)/L)  # ddphiy\n",
    "    \n",
    "    f = cs.Function('cs', [z, g, k, L], [dzdt], ['z', 'g', 'k', 'L'], ['dzdt'])\n",
    "    return f"
   ]
  },
  {
   "cell_type": "code",
   "execution_count": 12,
   "metadata": {},
   "outputs": [],
   "source": [
    "def cs_discrete_dynamics():\n",
    "    zk = cs.SX.sym('zk', 8)\n",
    "    zk1 = cs.SX.sym('zk1', 8)\n",
    "    gk = cs.SX.sym('gk', 2)\n",
    "    Ts = cs.SX.sym('Ts')\n",
    "    k = cs.SX.sym('k', 2)\n",
    "    L = cs.SX.sym('L')\n",
    "    \n",
    "    cd = cs_continuous_dynamics()\n",
    "    \n",
    "    M = 10\n",
    "    delta = Ts/M\n",
    "    zk1 = zk\n",
    "    for i in range(M):\n",
    "        zk1 += delta * cd(zk1, gk, k, L)\n",
    "    \n",
    "    f = cs.Function('dd', [zk, gk, Ts, k, L], [zk1], ['zk', 'gk', 'Ts', 'k', 'L'], ['zk1'])\n",
    "    return f"
   ]
  },
  {
   "cell_type": "code",
   "execution_count": 13,
   "metadata": {},
   "outputs": [],
   "source": [
    "cd = cs_continuous_dynamics()\n",
    "dd = cs_discrete_dynamics()"
   ]
  },
  {
   "cell_type": "code",
   "execution_count": 14,
   "metadata": {},
   "outputs": [
    {
     "data": {
      "text/plain": [
       "DM([-0.243796, 0.129262, -0.273322, 0.0403891, 0.002603, -0.463153, 0.0455681, 0.46586])"
      ]
     },
     "execution_count": 14,
     "metadata": {},
     "output_type": "execute_result"
    }
   ],
   "source": [
    "idx = 99\n",
    "z = zs[idx]\n",
    "g = last_gs[idx]\n",
    "k = ks[idx]\n",
    "L = Ls[idx]\n",
    "Ts = 0.2\n",
    "cd(z, g, k, L)"
   ]
  },
  {
   "cell_type": "code",
   "execution_count": 15,
   "metadata": {},
   "outputs": [
    {
     "data": {
      "text/plain": [
       "DM([1.16374, -0.201903, -0.176003, -0.249514, 0.0467427, -0.0715233, -0.047031, 0.112189])"
      ]
     },
     "execution_count": 15,
     "metadata": {},
     "output_type": "execute_result"
    }
   ],
   "source": [
    "dd(z, g, Ts, k, L)"
   ]
  },
  {
   "cell_type": "code",
   "execution_count": 67,
   "metadata": {},
   "outputs": [
    {
     "data": {
      "text/plain": [
       "DM(0.0896133)"
      ]
     },
     "execution_count": 67,
     "metadata": {},
     "output_type": "execute_result"
    }
   ],
   "source": [
    "def cs_objective_function():\n",
    "    \n",
    "    z = cs.SX.sym('z', 8)\n",
    "    zk = z\n",
    "    zk1 = cs.SX.sym('zk1', 8)\n",
    "    zref = cs.SX.sym('zref', 8)\n",
    "    g = cs.SX.sym('g',4,2)\n",
    "    last_g = cs.SX.sym('last_g',2)\n",
    "    gk = cs.SX.sym('gk', 2)\n",
    "    Ts = cs.SX.sym('Ts')\n",
    "    k = cs.SX.sym('k', 2)\n",
    "    L = cs.SX.sym('L')\n",
    "    N = cs.SX.sym('N')\n",
    "    \n",
    "    R = cs.SX(np.diag([0.1, 0.1]))\n",
    "    Q = cs.SX(np.diag([1.0, 1.0, 1.0, 1.0, 0.0, 0.0, 0.0, 0.0]))\n",
    "    \n",
    "    discrete_dynamics = cs_discrete_dynamics()\n",
    "    \n",
    "    gmin = cs.SX(np.ones((4,2)) * -0.1)\n",
    "    gmax = cs.SX(np.ones((4,2)) * 0.1)\n",
    "    \n",
    "    J = cs.SX(0)\n",
    "    \n",
    "    gk = g[0,:].T\n",
    "    zk1 = discrete_dynamics(zk, gk, Ts, k, L)\n",
    "    J = J + cs.mtimes([(zk1 - zref).T, Q, (zk1 - zref)]) + cs.mtimes([(gk - last_g).T, R, (gk - last_g)])\n",
    "    zk = zk1\n",
    "    \n",
    "    gk = g[1,:].T\n",
    "    zk1 = discrete_dynamics(zk, gk, Ts, k, L)\n",
    "    J = J + cs.mtimes([(zk1 - zref).T, Q, (zk1 - zref)]) + cs.mtimes([(gk - g[0,:].T).T, R, (gk - g[0,:].T)])\n",
    "    zk = zk1\n",
    "    \n",
    "    gk = g[2,:].T\n",
    "    zk1 = discrete_dynamics(zk, gk, Ts, k, L)\n",
    "    J = J + cs.mtimes([(zk1 - zref).T, Q, (zk1 - zref)]) + cs.mtimes([(gk - g[1,:].T).T, R, (gk - g[1,:].T)])\n",
    "    zk = zk1\n",
    "    \n",
    "    gk = g[3,:].T\n",
    "    zk1 = discrete_dynamics(zk, gk, Ts, k, L)\n",
    "    J = J + cs.mtimes([(zk1 - zref).T, Q, (zk1 - zref)]) + cs.mtimes([(gk - g[2,:].T).T, R, (gk - g[2,:].T)])\n",
    "    \n",
    "    \n",
    "    \n",
    "    \n",
    "    \n",
    "    f = cs.Function('cost', [g, z, Ts, N, zref, k, last_g, L], [J], \n",
    "                    ['g', 'z', 'Ts', 'N', 'zref', 'k', 'last_g', 'L'], ['J'] )\n",
    "    return f\n",
    "        \n",
    "    \n",
    "obj = cs_objective_function()\n",
    "idx = 1233\n",
    "obj(last_gopts[:,:,idx], zs[idx], 0.2, 4, zrefs[idx], ks[idx], last_gs[idx], Ls[idx])"
   ]
  },
  {
   "cell_type": "code",
   "execution_count": 64,
   "metadata": {},
   "outputs": [
    {
     "data": {
      "text/plain": [
       "array([ 1.23921456e+00,  1.25903784e-02, -7.58642877e-02,  1.95571693e-02,\n",
       "       -4.46135166e-04,  1.97356894e-02, -1.46582321e-03,  8.57119857e-04])"
      ]
     },
     "execution_count": 64,
     "metadata": {},
     "output_type": "execute_result"
    }
   ],
   "source": [
    "last_gopts[:,:,999]\n",
    "zs[999]"
   ]
  },
  {
   "cell_type": "code",
   "execution_count": 73,
   "metadata": {},
   "outputs": [
    {
     "data": {
      "text/plain": [
       "Function(cost:(g[4x2],z[8],Ts,N,zref[8],k[2],last_g[2],L)->(J) SXFunction)"
      ]
     },
     "execution_count": 73,
     "metadata": {},
     "output_type": "execute_result"
    }
   ],
   "source": [
    "obj"
   ]
  },
  {
   "cell_type": "code",
   "execution_count": 74,
   "metadata": {},
   "outputs": [
    {
     "data": {
      "text/plain": [
       "array([[-0.01791241,  0.1       ],\n",
       "       [-0.01703381,  0.1       ],\n",
       "       [-0.01939254,  0.1       ],\n",
       "       [-0.0215834 ,  0.1       ]])"
      ]
     },
     "execution_count": 74,
     "metadata": {},
     "output_type": "execute_result"
    }
   ],
   "source": [
    "last_gopts[:,:,idx]"
   ]
  },
  {
   "cell_type": "code",
   "execution_count": 181,
   "metadata": {},
   "outputs": [
    {
     "name": "stdout",
     "output_type": "stream",
     "text": [
      "This is Ipopt version 3.12.3, running with linear solver mumps.\n",
      "NOTE: Other linear solvers might be more efficient (see Ipopt documentation).\n",
      "\n",
      "Number of nonzeros in equality constraint Jacobian...:        0\n",
      "Number of nonzeros in inequality constraint Jacobian.:        0\n",
      "Number of nonzeros in Lagrangian Hessian.............:       36\n",
      "\n",
      "Total number of variables............................:        8\n",
      "                     variables with only lower bounds:        0\n",
      "                variables with lower and upper bounds:        8\n",
      "                     variables with only upper bounds:        0\n",
      "Total number of equality constraints.................:        0\n",
      "Total number of inequality constraints...............:        0\n",
      "        inequality constraints with only lower bounds:        0\n",
      "   inequality constraints with lower and upper bounds:        0\n",
      "        inequality constraints with only upper bounds:        0\n",
      "\n",
      "iter    objective    inf_pr   inf_du lg(mu)  ||d||  lg(rg) alpha_du alpha_pr  ls\n",
      "   0  3.6778234e-03 0.00e+00 2.46e-02  -1.0 0.00e+00    -  0.00e+00 0.00e+00   0\n",
      "   1  3.6329164e-03 0.00e+00 3.08e-11  -2.5 1.70e-03    -  1.00e+00 1.00e+00f  1\n",
      "   2  3.0495945e-03 0.00e+00 1.73e-03  -3.8 2.37e-02    -  8.63e-01 1.00e+00f  1\n",
      "   3  2.8367113e-03 0.00e+00 1.47e-08  -3.8 1.66e-02    -  1.00e+00 1.00e+00f  1\n",
      "   4  2.8147240e-03 0.00e+00 6.39e-05  -5.7 5.56e-03    -  9.71e-01 1.00e+00f  1\n",
      "   5  2.8142206e-03 0.00e+00 7.29e-11  -5.7 1.38e-03    -  1.00e+00 1.00e+00f  1\n",
      "   6  2.8142177e-03 0.00e+00 4.64e-13  -8.6 1.29e-04    -  1.00e+00 1.00e+00f  1\n",
      "\n",
      "Number of Iterations....: 6\n",
      "\n",
      "                                   (scaled)                 (unscaled)\n",
      "Objective...............:   2.8142177468829517e-03    2.8142177468829517e-03\n",
      "Dual infeasibility......:   4.6405141827712132e-13    4.6405141827712132e-13\n",
      "Constraint violation....:   0.0000000000000000e+00    0.0000000000000000e+00\n",
      "Complementarity.........:   6.8699127348546646e-09    6.8699127348546646e-09\n",
      "Overall NLP error.......:   6.8699127348546646e-09    6.8699127348546646e-09\n",
      "\n",
      "\n",
      "Number of objective function evaluations             = 7\n",
      "Number of objective gradient evaluations             = 7\n",
      "Number of equality constraint evaluations            = 0\n",
      "Number of inequality constraint evaluations          = 0\n",
      "Number of equality constraint Jacobian evaluations   = 0\n",
      "Number of inequality constraint Jacobian evaluations = 0\n",
      "Number of Lagrangian Hessian evaluations             = 6\n",
      "Total CPU secs in IPOPT (w/o function evaluations)   =      0.005\n",
      "Total CPU secs in NLP function evaluations           =      0.005\n",
      "\n",
      "EXIT: Optimal Solution Found.\n",
      "               t_proc [s]   t_wall [s]    n_eval\n",
      "           F       0.0111       0.0104         1\n",
      "       nlp_f     0.000192     0.000189         7\n",
      "  nlp_grad_f     0.000562     0.000617         8\n",
      "  nlp_hess_l       0.0045       0.0042         6\n",
      "[[ 0.0186872   0.02592249]\n",
      " [ 0.01312424  0.03320916]\n",
      " [ 0.00287796  0.0363879 ]\n",
      " [-0.00397345  0.03628527]]\n"
     ]
    }
   ],
   "source": [
    "idx = 2499\n",
    "\n",
    "t = ts[idx]\n",
    "samptime = 0.6\n",
    "\n",
    "last_g = cs.SX(last_gs[idx])\n",
    "\n",
    "z = cs.SX(zs[idx])\n",
    "zk = z\n",
    "Ts = 0.2\n",
    "N = 4\n",
    "zref = cs.SX(zrefs[idx])\n",
    "k = cs.SX(ks[idx])\n",
    "last_g = cs.SX(last_gs[idx])\n",
    "L = cs.SX(Ls[idx])\n",
    "\n",
    "g = cs.SX.sym('g',8)\n",
    "\n",
    "R = cs.SX(np.diag([0.1, 0.1]))\n",
    "Q = cs.SX(np.diag([1.0, 1.0, 1.0, 1.0, 0.0, 0.0, 0.0, 0.0]))\n",
    "\n",
    "discrete_dynamics = cs_discrete_dynamics()\n",
    "\n",
    "J = cs.SX(0)\n",
    "\n",
    "gk = g[0:2]\n",
    "zk1 = discrete_dynamics(zk, gk, Ts, k, L)\n",
    "J = J + cs.mtimes([(zk1 - zref).T, Q, (zk1 - zref)]) + cs.mtimes([(gk - last_g).T, R, (gk - last_g)])\n",
    "zk = zk1\n",
    "\n",
    "gk = g[2:4]\n",
    "zk1 = discrete_dynamics(zk, gk, Ts, k, L)\n",
    "J = J + cs.mtimes([(zk1 - zref).T, Q, (zk1 - zref)]) + cs.mtimes([(gk - g[0:2]).T, R, (gk - g[0:2])])\n",
    "zk = zk1\n",
    "\n",
    "gk = g[4:6]\n",
    "zk1 = discrete_dynamics(zk, gk, Ts, k, L)\n",
    "J = J + cs.mtimes([(zk1 - zref).T, Q, (zk1 - zref)]) + cs.mtimes([(gk - g[2:4]).T, R, (gk - g[2:4])])\n",
    "zk = zk1\n",
    "\n",
    "gk = g[6:8]\n",
    "zk1 = discrete_dynamics(zk, gk, Ts, k, L)\n",
    "J = J + cs.mtimes([(zk1 - zref).T, Q, (zk1 - zref)]) + cs.mtimes([(gk - g[4:6]).T, R, (gk - g[4:6])])\n",
    "\n",
    "nlp = {}                 # NLP declaration\n",
    "nlp['x']= g              # decision vars\n",
    "nlp['f'] = J             # objective\n",
    "# nlp['g'] = g             # constraints\n",
    "\n",
    "gmin = np.ones(8) * -0.1\n",
    "gmax = np.ones(8) * 0.1\n",
    "\n",
    "\n",
    "# Create solver instance\n",
    "# F = cs.nlpsol('F','sqpmethod',nlp);\n",
    "F = cs.nlpsol('F','ipopt',nlp);\n",
    "\n",
    "#     F = cs.qpsol('F', 'qpoases', nlp, {'verbose': True})\n",
    "\n",
    "# Solve the problem using a guess\n",
    "sol = np.array(F(x0=last_gopts[:,:,idx].ravel(), lbx=gmin, ubx=gmax )['x']).reshape(-1,2)\n",
    "print(sol)"
   ]
  },
  {
   "cell_type": "code",
   "execution_count": 178,
   "metadata": {},
   "outputs": [
    {
     "data": {
      "text/plain": [
       "array([[ 0.0186872 ,  0.02592249],\n",
       "       [ 0.01312424,  0.03320916],\n",
       "       [ 0.00287796,  0.0363879 ],\n",
       "       [-0.00397345,  0.03628527]])"
      ]
     },
     "execution_count": 178,
     "metadata": {},
     "output_type": "execute_result"
    }
   ],
   "source": [
    "sol"
   ]
  },
  {
   "cell_type": "code",
   "execution_count": 151,
   "metadata": {},
   "outputs": [
    {
     "data": {
      "text/plain": [
       "array([-0.01939254,  0.1       ])"
      ]
     },
     "execution_count": 151,
     "metadata": {},
     "output_type": "execute_result"
    }
   ],
   "source": [
    "np.array([gxs[idx], gys[idx]])"
   ]
  },
  {
   "cell_type": "code",
   "execution_count": 155,
   "metadata": {},
   "outputs": [
    {
     "data": {
      "text/plain": [
       "[<matplotlib.lines.Line2D at 0x7f55c8ec2990>]"
      ]
     },
     "execution_count": 155,
     "metadata": {},
     "output_type": "execute_result"
    },
    {
     "data": {
      "image/png": "[encoded data removed]",
      "text/plain": [
       "<Figure size 432x288 with 1 Axes>"
      ]
     },
     "metadata": {
      "needs_background": "light"
     },
     "output_type": "display_data"
    }
   ],
   "source": [
    "plt.plot(gys)"
   ]
  },
  {
   "cell_type": "code",
   "execution_count": 106,
   "metadata": {},
   "outputs": [
    {
     "data": {
      "text/plain": [
       "array([-0.01791241,  0.1       ])"
      ]
     },
     "execution_count": 106,
     "metadata": {},
     "output_type": "execute_result"
    }
   ],
   "source": [
    "last_gopts[:,:,idx].ravel()[0:2]"
   ]
  },
  {
   "cell_type": "code",
   "execution_count": 99,
   "metadata": {},
   "outputs": [
    {
     "data": {
      "text/plain": [
       "array([[-0.01791241,  0.1       ],\n",
       "       [-0.01703381,  0.1       ],\n",
       "       [-0.01939254,  0.1       ],\n",
       "       [-0.0215834 ,  0.1       ]])"
      ]
     },
     "execution_count": 99,
     "metadata": {},
     "output_type": "execute_result"
    }
   ],
   "source": [
    "last_gopts[:,:,idx]"
   ]
  },
  {
   "cell_type": "code",
   "execution_count": null,
   "metadata": {},
   "outputs": [],
   "source": []
  }
 ],
 "metadata": {
  "kernelspec": {
   "display_name": "Python 2",
   "language": "python",
   "name": "python2"
  },
  "language_info": {
   "codemirror_mode": {
    "name": "ipython",
    "version": 2
   },
   "file_extension": ".py",
   "mimetype": "text/x-python",
   "name": "python",
   "nbconvert_exporter": "python",
   "pygments_lexer": "ipython2",
   "version": "2.7.16"
  }
 },
 "nbformat": 4,
 "nbformat_minor": 2
}
