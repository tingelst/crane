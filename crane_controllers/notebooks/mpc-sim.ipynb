{
 "cells": [
  {
   "cell_type": "code",
   "execution_count": 1,
   "metadata": {},
   "outputs": [],
   "source": [
    "import numpy as np \n",
    "import pickle\n",
    "import casadi as cs\n",
    "import matplotlib.pyplot as plt "
   ]
  },
  {
   "cell_type": "markdown",
   "metadata": {},
   "source": [
    "# MPC"
   ]
  },
  {
   "cell_type": "markdown",
   "metadata": {},
   "source": [
    "## Load simulated data"
   ]
  },
  {
   "cell_type": "code",
   "execution_count": 2,
   "metadata": {},
   "outputs": [],
   "source": [
    "def load():\n",
    "    f = open(\n",
    "        '/home/lars/ros/crane_ws/src/crane/crane_controllers/data/datain.pickle', 'rb')\n",
    "    datain = pickle.load(f)\n",
    "    f.close()\n",
    "    f = open(\n",
    "        '/home/lars/ros/crane_ws/src/crane/crane_controllers/data/dataout.pickle', 'rb')\n",
    "    dataout = pickle.load(f)\n",
    "    f.close()\n",
    "    return datain, dataout"
   ]
  },
  {
   "cell_type": "code",
   "execution_count": 3,
   "metadata": {},
   "outputs": [],
   "source": [
    "datain, dataout = load()\n",
    "\n",
    "last_gopts = datain['last_gopt']\n",
    "last_gs = datain['last_g']\n",
    "Ls = datain['L']\n",
    "ks = datain['k']\n",
    "gammas = datain['gamma']\n",
    "ts = datain['t']\n",
    "zrefs = datain['zref']\n",
    "zs = datain['z']\n",
    "\n",
    "dot_wxs = dataout['dot_wx']\n",
    "dot_wys = dataout['dot_wy']\n",
    "gxs = dataout['gx']\n",
    "gys = dataout['gy']"
   ]
  },
  {
   "cell_type": "code",
   "execution_count": 28,
   "metadata": {},
   "outputs": [],
   "source": [
    "def cs_continuous_dynamics():\n",
    "    kp = cs.SX.sym('kp')\n",
    "    kd = cs.SX.sym('kd')\n",
    "    k = cs.vertcat(kp, kd)\n",
    "    \n",
    "    L = cs.SX.sym('L')\n",
    "\n",
    "    x0 = cs.SX.sym('x0')\n",
    "    dx0 = cs.SX.sym('dx0')\n",
    "    y0 = cs.SX.sym('y0')\n",
    "    dy0 = cs.SX.sym('dy0')\n",
    "    phix = cs.SX.sym('phix')\n",
    "    dphix = cs.SX.sym('dphix')\n",
    "    phiy = cs.SX.sym('phiy')\n",
    "    dphiy = cs.SX.sym('dphiy')\n",
    "    z = cs.vertcat(x0, dx0, y0, dy0, phix, dphix, phiy, dphiy)\n",
    "    \n",
    "    cx = cs.SX.cos(phix)\n",
    "    sx = cs.SX.sin(phix)\n",
    "    cy = cs.SX.cos(phiy)\n",
    "    sy = cs.SX.sin(phiy)\n",
    "    \n",
    "    gx = cs.SX.sym('gx')\n",
    "    gy = cs.SX.sym('gy')\n",
    "    g = cs.vertcat(gx, gy)\n",
    "\n",
    "    dzdt = cs.SX.sym('dzdt', 8,1)\n",
    "\n",
    "    uy = - L*cy/cx*(kd*dphix + kp*phix) - 2.0*L*sy / \\\n",
    "        cx*dphix*dphiy + 9.81*sx*sy*sy/cx\n",
    "\n",
    "    # Eq 51-54 in Ecc\n",
    "    dzdt[0] = dx0  # dx0\n",
    "    dzdt[1] = gx + (L*(kd*dphiy + kp*phiy) - L*cy*sy *\n",
    "                    dphix*dphix - uy*sx*sy)/cy  # ddx0\n",
    "    dzdt[2] = dy0  # dy0\n",
    "    dzdt[3] = gy - (L*cy*(kd*dphix + kp*phix) + 2.0*L*sy *\n",
    "                    dphix*dphiy - 9.81*sx*sy*sy)/cx  # ddy0\n",
    "    dzdt[4] = z[5]  # dphix\n",
    "    dzdt[5] = (-kd*dphix) - (kp*phix) - \\\n",
    "        (9.81/L*cy*sx) + (gy*cx/(cy*L))  # ddphix\n",
    "    dzdt[6] = z[7]  # dphiy\n",
    "    dzdt[7] = (-kd*dphiy) - (kp*phiy) - (9.81 / L * cx*sy) - \\\n",
    "        ((gx*cy + gy*sx*sy)/L)  # ddphiy\n",
    "    \n",
    "    f = cs.Function('cs', [z, g, k, L], [dzdt], ['z', 'g', 'k', 'L'], ['dzdt'])\n",
    "    return f"
   ]
  },
  {
   "cell_type": "code",
   "execution_count": 32,
   "metadata": {},
   "outputs": [],
   "source": [
    "def cs_discrete_dynamics():\n",
    "    zk = cs.SX.sym('zk', 8)\n",
    "    zk1 = cs.SX.sym('zk1', 8)\n",
    "    gk = cs.SX.sym('gk', 2)\n",
    "    Ts = cs.SX.sym('Ts')\n",
    "    k = cs.SX.sym('k', 2)\n",
    "    L = cs.SX.sym('L')\n",
    "    \n",
    "    cd = cs_continuous_dynamics()\n",
    "    \n",
    "    M = 10\n",
    "    delta = Ts/M\n",
    "    zk1 = zk\n",
    "    for i in range(M+1):\n",
    "        zk1 += delta * cd(zk1, gk, k, L)\n",
    "    \n",
    "    f = cs.Function('dd', [zk, gk, Ts, k, L], [zk1], ['zk', 'gk', 'Ts', 'k', 'L'], ['zk1'])\n",
    "    return f"
   ]
  },
  {
   "cell_type": "code",
   "execution_count": 33,
   "metadata": {},
   "outputs": [],
   "source": [
    "cd = cs_continuous_dynamics()\n",
    "dd = cs_discrete_dynamics()"
   ]
  },
  {
   "cell_type": "code",
   "execution_count": 34,
   "metadata": {},
   "outputs": [
    {
     "data": {
      "text/plain": [
       "DM([-0.243796, 0.129262, -0.273322, 0.0403891, 0.002603, -0.463153, 0.0455681, 0.46586])"
      ]
     },
     "execution_count": 34,
     "metadata": {},
     "output_type": "execute_result"
    }
   ],
   "source": [
    "idx = 99\n",
    "z = zs[idx]\n",
    "g = last_gs[idx]\n",
    "k = ks[idx]\n",
    "L = Ls[idx]\n",
    "Ts = 0.2\n",
    "cd(z, g, k, L)"
   ]
  },
  {
   "cell_type": "code",
   "execution_count": 35,
   "metadata": {},
   "outputs": [
    {
     "data": {
      "text/plain": [
       "DM([1.15971, -0.196165, -0.180994, -0.245487, 0.0453123, -0.0764139, -0.0447872, 0.115519])"
      ]
     },
     "execution_count": 35,
     "metadata": {},
     "output_type": "execute_result"
    }
   ],
   "source": [
    "dd(z, g, Ts, k, L)"
   ]
  },
  {
   "cell_type": "code",
   "execution_count": null,
   "metadata": {},
   "outputs": [],
   "source": []
  }
 ],
 "metadata": {
  "kernelspec": {
   "display_name": "Python 2",
   "language": "python",
   "name": "python2"
  },
  "language_info": {
   "codemirror_mode": {
    "name": "ipython",
    "version": 2
   },
   "file_extension": ".py",
   "mimetype": "text/x-python",
   "name": "python",
   "nbconvert_exporter": "python",
   "pygments_lexer": "ipython2",
   "version": "2.7.15rc1"
  }
 },
 "nbformat": 4,
 "nbformat_minor": 2
}
