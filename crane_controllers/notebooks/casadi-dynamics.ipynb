{
 "cells": [
  {
   "cell_type": "code",
   "execution_count": 9,
   "metadata": {},
   "outputs": [],
   "source": [
    "import casadi as cs\n",
    "import numpy as np\n",
    "from casadi import *"
   ]
  },
  {
   "cell_type": "code",
   "execution_count": null,
   "metadata": {},
   "outputs": [],
   "source": []
  },
  {
   "cell_type": "code",
   "execution_count": 10,
   "metadata": {},
   "outputs": [
    {
     "name": "stdout",
     "output_type": "stream",
     "text": [
      "(A\\b)\n"
     ]
    }
   ],
   "source": [
    "A = MX.sym('A',3,3)\n",
    "b = MX.sym('b',3)\n",
    "print(solve(A,b))"
   ]
  },
  {
   "cell_type": "code",
   "execution_count": 71,
   "metadata": {},
   "outputs": [
    {
     "name": "stdout",
     "output_type": "stream",
     "text": [
      "[dzdt_0, dzdt_1, dzdt_2, dzdt_3, dzdt_4, dzdt_5, dzdt_6, dzdt_7]\n",
      "@1=cos(phiy), @2=sin(phiy), @3=9.81, @4=sin(phix), @5=cos(phix), @6=2, [dx0, (gx+((((L*((kd*dphiy)+(kp*phiy)))-((((L*@1)*@2)*dphix)*dphix))-(((((((@3*@4)*@2)*@2)/@5)-((((L*@1)/@5)*((kd*dphix)+(kp*phix)))+(((((@6*L)*@2)/@5)*dphix)*dphiy)))*@4)*@2))/@1)), dy0, (gy-(((((L*@1)*((kd*dphix)+(kp*phix)))+((((@6*L)*@2)*dphix)*dphiy))-(((@3*@4)*@2)*@2))/@5)), dphix, (((gy*@5)/(@1*L))-(((kd*dphix)+(kp*phix))+(((@3/L)*@1)*@4))), dphiy, (-((((kd*dphiy)+(kp*phiy))+(((@3/L)*@5)*@2))+(((gx*@1)+((gy*@4)*@2))/L)))]\n"
     ]
    }
   ],
   "source": [
    "\n",
    "kp = cs.SX.sym('kp')\n",
    "kd = cs.SX.sym('kd')\n",
    "L = cs.SX.sym('L')\n",
    "\n",
    "x0 = cs.SX.sym('x0')\n",
    "dx0 = cs.SX.sym('dx0')\n",
    "y0 = cs.SX.sym('y0')\n",
    "dy0 = cs.SX.sym('dy0')\n",
    "phix = cs.SX.sym('phix')\n",
    "dphix = cs.SX.sym('dphix')\n",
    "phiy = cs.SX.sym('phiy')\n",
    "dphiy = cs.SX.sym('dphiy')\n",
    "\n",
    "gx = cs.SX.sym('gx')\n",
    "gy = cs.SX.sym('gy')\n",
    "\n",
    "dzdt = cs.SX.sym('dzdt', 8,1)\n",
    "\n",
    "uy = - L*cy/cx*(kd*dphix + kp*phix) - 2.0*L*sy / \\\n",
    "    cx*dphix*dphiy + 9.81*sx*sy*sy/cx\n",
    "\n",
    "# Eq 51-54 in Ecc\n",
    "dzdt[0] = dx0  # dx0\n",
    "dzdt[1] = gx + (L*(kd*dphiy + kp*phiy) - L*cy*sy *\n",
    "                dphix*dphix - uy*sx*sy)/cy  # ddx0\n",
    "dzdt[2] = dy0  # dy0\n",
    "dzdt[3] = gy - (L*cy*(kd*dphix + kp*phix) + 2.0*L*sy *\n",
    "                dphix*dphiy - 9.81*sx*sy*sy)/cx  # ddy0\n",
    "dzdt[4] = z[5]  # dphix\n",
    "dzdt[5] = (-kd*dphix) - (kp*phix) - \\\n",
    "    (9.81/L*cy*sx) + (gy*cx/(cy*L))  # ddphix\n",
    "dzdt[6] = z[7]  # dphiy\n",
    "dzdt[7] = (-kd*dphiy) - (kp*phiy) - (9.81 / L * cx*sy) - \\\n",
    "    ((gx*cy + gy*sx*sy)/L)  # ddphiy\n",
    "\n",
    "print(dzdt)"
   ]
  },
  {
   "cell_type": "code",
   "execution_count": 24,
   "metadata": {},
   "outputs": [],
   "source": [
    "cx = cs.SX.cos(phix)\n",
    "sx = cs.SX.sin(phix)\n",
    "cy = cs.SX.cos(phiy)\n",
    "sy = cs.SX.sin(phiy)"
   ]
  },
  {
   "cell_type": "code",
   "execution_count": 27,
   "metadata": {},
   "outputs": [
    {
     "data": {
      "text/plain": [
       "SX(@1=sin(phiy), @2=cos(phix), (((((9.81*sin(phix))*@1)*@1)/@2)-((((L*cos(phiy))/@2)*((kd*dphix)+(kp*phix)))+(((((2*L)*@1)/@2)*dphix)*dphiy))))"
      ]
     },
     "execution_count": 27,
     "metadata": {},
     "output_type": "execute_result"
    }
   ],
   "source": [
    "uy = - L*cy/cx*(kd*dphix + kp*phix) - 2.0*L*sy / cx*dphix*dphiy + 9.81*sx*sy*sy/cx\n",
    "uy"
   ]
  },
  {
   "cell_type": "code",
   "execution_count": 30,
   "metadata": {},
   "outputs": [
    {
     "data": {
      "text/plain": [
       "SX(@1=9.81, @2=sin(phiy), @3=cos(phix), @4=((L*cos(phiy))/@3), ((cos(phix)*(@1*(@2*(@2/@3))))-((kp*@4)+(sin(phix)*(((((((2*L)*@2)/@3)/@3)*(dphix*dphiy))+((@4/@3)*((kd*dphix)+(kp*phix))))-(((((@1*sin(phix))*@2)*@2)/@3)/@3))))))"
      ]
     },
     "execution_count": 30,
     "metadata": {},
     "output_type": "execute_result"
    }
   ],
   "source": [
    "cs.gradient(uy, phix)"
   ]
  },
  {
   "cell_type": "code",
   "execution_count": 32,
   "metadata": {},
   "outputs": [
    {
     "name": "stdout",
     "output_type": "stream",
     "text": [
      "f:(i0[2],i1)->(o0[2],o1[2]) SXFunction\n"
     ]
    }
   ],
   "source": [
    "x = SX.sym('x',2)\n",
    "y = SX.sym('y')\n",
    "f = Function('f',[x,y], [x,sin(y)*x])\n",
    "print(f)"
   ]
  },
  {
   "cell_type": "code",
   "execution_count": 33,
   "metadata": {},
   "outputs": [
    {
     "data": {
      "text/plain": [
       "array([[ 0.27184141,  0.34638923],\n",
       "       [ 0.71980985,  0.68700698],\n",
       "       [ 0.21999568,  0.82453792],\n",
       "       [ 0.42201876,  0.82847081],\n",
       "       [ 0.75160127,  0.55323616]])"
      ]
     },
     "execution_count": 33,
     "metadata": {},
     "output_type": "execute_result"
    }
   ],
   "source": [
    "A = np.random.rand(5,2)\n",
    "A"
   ]
  },
  {
   "cell_type": "code",
   "execution_count": 35,
   "metadata": {},
   "outputs": [
    {
     "ename": "NameError",
     "evalue": "name 'nz' is not defined",
     "output_type": "error",
     "traceback": [
      "\u001b[0;31m---------------------------------------------------------------------------\u001b[0m",
      "\u001b[0;31mNameError\u001b[0m                                 Traceback (most recent call last)",
      "\u001b[0;32m<ipython-input-35-d194d5e73bdd>\u001b[0m in \u001b[0;36m<module>\u001b[0;34m()\u001b[0m\n\u001b[0;32m----> 1\u001b[0;31m \u001b[0mz\u001b[0m \u001b[0;34m=\u001b[0m \u001b[0mSX\u001b[0m\u001b[0;34m.\u001b[0m\u001b[0msym\u001b[0m\u001b[0;34m(\u001b[0m\u001b[0;34m'x'\u001b[0m\u001b[0;34m,\u001b[0m\u001b[0mnz\u001b[0m\u001b[0;34m)\u001b[0m\u001b[0;34m\u001b[0m\u001b[0m\n\u001b[0m\u001b[1;32m      2\u001b[0m \u001b[0mx\u001b[0m \u001b[0;34m=\u001b[0m \u001b[0mSX\u001b[0m\u001b[0;34m.\u001b[0m\u001b[0msym\u001b[0m\u001b[0;34m(\u001b[0m\u001b[0;34m'x'\u001b[0m\u001b[0;34m,\u001b[0m\u001b[0mnx\u001b[0m\u001b[0;34m)\u001b[0m\u001b[0;34m\u001b[0m\u001b[0m\n\u001b[1;32m      3\u001b[0m \u001b[0mg0\u001b[0m \u001b[0;34m=\u001b[0m \u001b[0msin\u001b[0m\u001b[0;34m(\u001b[0m\u001b[0mx\u001b[0m\u001b[0;34m+\u001b[0m\u001b[0mz\u001b[0m\u001b[0;34m)\u001b[0m\u001b[0;34m\u001b[0m\u001b[0m\n\u001b[1;32m      4\u001b[0m \u001b[0mg1\u001b[0m \u001b[0;34m=\u001b[0m \u001b[0mcos\u001b[0m\u001b[0;34m(\u001b[0m\u001b[0mx\u001b[0m\u001b[0;34m-\u001b[0m\u001b[0mz\u001b[0m\u001b[0;34m)\u001b[0m\u001b[0;34m\u001b[0m\u001b[0m\n\u001b[1;32m      5\u001b[0m \u001b[0mg\u001b[0m \u001b[0;34m=\u001b[0m \u001b[0mFunction\u001b[0m\u001b[0;34m(\u001b[0m\u001b[0;34m'g'\u001b[0m\u001b[0;34m,\u001b[0m\u001b[0;34m[\u001b[0m\u001b[0mz\u001b[0m\u001b[0;34m,\u001b[0m\u001b[0mx\u001b[0m\u001b[0;34m]\u001b[0m\u001b[0;34m,\u001b[0m\u001b[0;34m[\u001b[0m\u001b[0mg0\u001b[0m\u001b[0;34m,\u001b[0m\u001b[0mg1\u001b[0m\u001b[0;34m]\u001b[0m\u001b[0;34m)\u001b[0m\u001b[0;34m\u001b[0m\u001b[0m\n",
      "\u001b[0;31mNameError\u001b[0m: name 'nz' is not defined"
     ]
    }
   ],
   "source": [
    "z = SX.sym('x',nz)\n",
    "x = SX.sym('x',nx)\n",
    "g0 = sin(x+z)\n",
    "g1 = cos(x-z)\n",
    "g = Function('g',[z,x],[g0,g1])\n",
    "G = rootfinder('G','newton',g)\n",
    "print(G)"
   ]
  },
  {
   "cell_type": "code",
   "execution_count": 36,
   "metadata": {},
   "outputs": [
    {
     "name": "stdout",
     "output_type": "stream",
     "text": [
      "F:(x0,p,z0,rx0[0],rp[0],rz0[0])->(xf,qf[0],zf,rxf[0],rqf[0],rzf[0]) IdasInterface\n"
     ]
    }
   ],
   "source": [
    "x = SX.sym('x'); z = SX.sym('z'); p = SX.sym('p')\n",
    "dae = {'x':x, 'z':z, 'p':p, 'ode':z+p, 'alg':z*cos(z)-x}\n",
    "F = integrator('F', 'idas', dae)\n",
    "print(F)"
   ]
  },
  {
   "cell_type": "code",
   "execution_count": 38,
   "metadata": {},
   "outputs": [
    {
     "name": "stdout",
     "output_type": "stream",
     "text": [
      "S:(x0[2],p[],lbx[2],ubx[2],lbg,ubg,lam_x0[2],lam_g0)->(x[2],f,g,lam_x[2],lam_g,lam_p[]) MXFunction\n"
     ]
    }
   ],
   "source": [
    "x = SX.sym('x'); y = SX.sym('y')\n",
    "qp = {'x':vertcat(x,y), 'f':x**2+y**2, 'g':x+y-10}\n",
    "S = qpsol('S', 'qpoases', qp)\n",
    "print(S)"
   ]
  },
  {
   "cell_type": "code",
   "execution_count": 39,
   "metadata": {},
   "outputs": [
    {
     "name": "stdout",
     "output_type": "stream",
     "text": [
      "\n",
      "\n",
      "####################   qpOASES  --  QP NO.   1   #####################\n",
      "\n",
      "    Iter   |    StepLength    |       Info       |   nFX   |   nAC    \n",
      " ----------+------------------+------------------+---------+--------- \n",
      "       0   |   1.866661e-07   |   ADD CON    0   |     1   |     1   \n",
      "       1   |   8.333622e-10   |   REM BND    1   |     0   |     1   \n",
      "       2   |   1.000000e+00   |    QP SOLVED     |     0   |     1   \n",
      "('x_opt: ', DM([5, 5]))\n"
     ]
    }
   ],
   "source": [
    "r = S(lbg=0)\n",
    "x_opt = r['x']\n",
    "print('x_opt: ', x_opt)"
   ]
  },
  {
   "cell_type": "code",
   "execution_count": 40,
   "metadata": {},
   "outputs": [
    {
     "name": "stdout",
     "output_type": "stream",
     "text": [
      "/* This file was automatically generated by CasADi.\n",
      "   The CasADi copyright holders make no ownership claim of its contents. */\n",
      "#ifdef __cplusplus\n",
      "extern \"C\" {\n",
      "#endif\n",
      "\n",
      "/* How to prefix internal symbols */\n",
      "#ifdef CODEGEN_PREFIX\n",
      "  #define NAMESPACE_CONCAT(NS, ID) _NAMESPACE_CONCAT(NS, ID)\n",
      "  #define _NAMESPACE_CONCAT(NS, ID) NS ## ID\n",
      "  #define CASADI_PREFIX(ID) NAMESPACE_CONCAT(CODEGEN_PREFIX, ID)\n",
      "#else\n",
      "  #define CASADI_PREFIX(ID) gen_ ## ID\n",
      "#endif\n",
      "\n",
      "#include <math.h>\n",
      "\n",
      "#ifndef casadi_real\n",
      "#define casadi_real double\n",
      "#endif\n",
      "\n",
      "#ifndef casadi_int\n",
      "#define casadi_int long long int\n",
      "#endif\n",
      "\n",
      "/* Add prefix to internal symbols */\n",
      "#define casadi_copy CASADI_PREFIX(copy)\n",
      "#define casadi_f0 CASADI_PREFIX(f0)\n",
      "#define casadi_s0 CASADI_PREFIX(s0)\n",
      "#define casadi_s1 CASADI_PREFIX(s1)\n",
      "\n",
      "/* Symbol visibility in DLLs */\n",
      "#ifndef CASADI_SYMBOL_EXPORT\n",
      "  #if defined(_WIN32) || defined(__WIN32__) || defined(__CYGWIN__)\n",
      "    #if defined(STATIC_LINKED)\n",
      "      #define CASADI_SYMBOL_EXPORT\n",
      "    #else\n",
      "      #define CASADI_SYMBOL_EXPORT __declspec(dllexport)\n",
      "    #endif\n",
      "  #elif defined(__GNUC__) && defined(GCC_HASCLASSVISIBILITY)\n",
      "    #define CASADI_SYMBOL_EXPORT __attribute__ ((visibility (\"default\")))\n",
      "  #else\n",
      "    #define CASADI_SYMBOL_EXPORT\n",
      "  #endif\n",
      "#endif\n",
      "\n",
      "static const casadi_int casadi_s0[6] = {2, 1, 0, 2, 0, 1};\n",
      "static const casadi_int casadi_s1[5] = {1, 1, 0, 1, 0};\n",
      "\n",
      "void casadi_copy(const casadi_real* x, casadi_int n, casadi_real* y) {\n",
      "  casadi_int i;\n",
      "  if (y) {\n",
      "    if (x) {\n",
      "      for (i=0; i<n; ++i) *y++ = *x++;\n",
      "    } else {\n",
      "      for (i=0; i<n; ++i) *y++ = 0.;\n",
      "    }\n",
      "  }\n",
      "}\n",
      "\n",
      "/* f:(x[2],y)->(r[2],q[2]) */\n",
      "static int casadi_f0(const casadi_real** arg, casadi_real** res, casadi_int* iw, casadi_real* w, void* mem) {\n",
      "  casadi_int i;\n",
      "  casadi_real *rr;\n",
      "  const casadi_real *cs;\n",
      "  casadi_real *w0=w+0, w1;\n",
      "  /* #0: @0 = input[0][0] */\n",
      "  casadi_copy(arg[0], 2, w0);\n",
      "  /* #1: output[0][0] = @0 */\n",
      "  casadi_copy(w0, 2, res[0]);\n",
      "  /* #2: @1 = input[1][0] */\n",
      "  w1 = arg[1] ? arg[1][0] : 0;\n",
      "  /* #3: @1 = sin(@1) */\n",
      "  w1 = sin( w1 );\n",
      "  /* #4: @0 = (@1*@0) */\n",
      "  for (i=0, rr=w0, cs=w0; i<2; ++i) (*rr++)  = (w1*(*cs++));\n",
      "  /* #5: output[1][0] = @0 */\n",
      "  casadi_copy(w0, 2, res[1]);\n",
      "  return 0;\n",
      "}\n",
      "\n",
      "CASADI_SYMBOL_EXPORT int f(const casadi_real** arg, casadi_real** res, casadi_int* iw, casadi_real* w, void* mem){\n",
      "  return casadi_f0(arg, res, iw, w, mem);\n",
      "}\n",
      "\n",
      "CASADI_SYMBOL_EXPORT void f_incref(void) {\n",
      "}\n",
      "\n",
      "CASADI_SYMBOL_EXPORT void f_decref(void) {\n",
      "}\n",
      "\n",
      "CASADI_SYMBOL_EXPORT casadi_int f_n_in(void) { return 2;}\n",
      "\n",
      "CASADI_SYMBOL_EXPORT casadi_int f_n_out(void) { return 2;}\n",
      "\n",
      "CASADI_SYMBOL_EXPORT const char* f_name_in(casadi_int i){\n",
      "  switch (i) {\n",
      "    case 0: return \"x\";\n",
      "    case 1: return \"y\";\n",
      "    default: return 0;\n",
      "  }\n",
      "}\n",
      "\n",
      "CASADI_SYMBOL_EXPORT const char* f_name_out(casadi_int i){\n",
      "  switch (i) {\n",
      "    case 0: return \"r\";\n",
      "    case 1: return \"q\";\n",
      "    default: return 0;\n",
      "  }\n",
      "}\n",
      "\n",
      "CASADI_SYMBOL_EXPORT const casadi_int* f_sparsity_in(casadi_int i) {\n",
      "  switch (i) {\n",
      "    case 0: return casadi_s0;\n",
      "    case 1: return casadi_s1;\n",
      "    default: return 0;\n",
      "  }\n",
      "}\n",
      "\n",
      "CASADI_SYMBOL_EXPORT const casadi_int* f_sparsity_out(casadi_int i) {\n",
      "  switch (i) {\n",
      "    case 0: return casadi_s0;\n",
      "    case 1: return casadi_s0;\n",
      "    default: return 0;\n",
      "  }\n",
      "}\n",
      "\n",
      "CASADI_SYMBOL_EXPORT int f_work(casadi_int *sz_arg, casadi_int* sz_res, casadi_int *sz_iw, casadi_int *sz_w) {\n",
      "  if (sz_arg) *sz_arg = 4;\n",
      "  if (sz_res) *sz_res = 3;\n",
      "  if (sz_iw) *sz_iw = 0;\n",
      "  if (sz_w) *sz_w = 3;\n",
      "  return 0;\n",
      "}\n",
      "\n",
      "\n",
      "#ifdef __cplusplus\n",
      "} /* extern \"C\" */\n",
      "#endif\n",
      "\n"
     ]
    }
   ],
   "source": [
    "x = MX.sym('x',2)\n",
    "y = MX.sym('y')\n",
    "f = Function('f',[x,y],\\\n",
    "      [x,sin(y)*x],\\\n",
    "      ['x','y'],['r','q'])\n",
    "f.generate('gen.c')\n",
    "print(open('gen.c','r').read())"
   ]
  },
  {
   "cell_type": "code",
   "execution_count": 42,
   "metadata": {},
   "outputs": [],
   "source": [
    "!gcc -fPIC -shared gen.c -o gen.so"
   ]
  },
  {
   "cell_type": "code",
   "execution_count": 47,
   "metadata": {},
   "outputs": [
    {
     "name": "stdout",
     "output_type": "stream",
     "text": [
      "(DM([3.14, 3.14]), DM([0.927933, 0.927933]))\n"
     ]
    }
   ],
   "source": [
    "f = cs.external('f', './gen.so')\n",
    "print(f(3.14, 0.3))"
   ]
  },
  {
   "cell_type": "code",
   "execution_count": 57,
   "metadata": {},
   "outputs": [
    {
     "data": {
      "text/plain": [
       "'gen2.c'"
      ]
     },
     "execution_count": 57,
     "metadata": {},
     "output_type": "execute_result"
    }
   ],
   "source": [
    "f = Function('f',[x],[sin(x)])\n",
    "g = Function('g',[x],[cos(x)])\n",
    "C = CodeGenerator('gen2.c')\n",
    "C.add(f)\n",
    "C.add(g)\n",
    "C.generate()"
   ]
  },
  {
   "cell_type": "code",
   "execution_count": 60,
   "metadata": {},
   "outputs": [],
   "source": [
    "!gcc -fPIC -shared gen2.c -o gen2.so"
   ]
  },
  {
   "cell_type": "code",
   "execution_count": 61,
   "metadata": {},
   "outputs": [
    {
     "name": "stdout",
     "output_type": "stream",
     "text": [
      "[0.00159265, 0.00159265]\n"
     ]
    }
   ],
   "source": [
    "f = external('f', './gen2.so')\n",
    "print(f(3.14))"
   ]
  },
  {
   "cell_type": "code",
   "execution_count": 64,
   "metadata": {},
   "outputs": [
    {
     "name": "stdout",
     "output_type": "stream",
     "text": [
      "f:(x[2],y)->(r[2],q[2]) MXFunction\n"
     ]
    }
   ],
   "source": [
    "f = Function('f',[x,y],\\\n",
    "      [x,sin(y)*x],\\\n",
    "      ['x','y'],['r','q'])\n",
    "print(f)"
   ]
  },
  {
   "cell_type": "code",
   "execution_count": 72,
   "metadata": {},
   "outputs": [
    {
     "ename": "NotImplementedError",
     "evalue": "Wrong number or type of arguments for overloaded function 'new_Function'.\n  Possible prototypes are:\n    Function()\n    Function(str)\n    Function(Function)\n    Function(str,[SX],[SX],dict)\n    Function(str,[MX],[MX],dict)\n    Function(str,dict:SX,[str],[str],dict)\n    Function(str,dict:MX,[str],[str],dict)\n    Function(str,[SX],[SX],[str],[str],dict)\n    Function(str,[MX],[MX],[str],[str],dict)\n  You have: '(str,[SX])'\n",
     "output_type": "error",
     "traceback": [
      "\u001b[0;31m---------------------------------------------------------------------------\u001b[0m",
      "\u001b[0;31mNotImplementedError\u001b[0m                       Traceback (most recent call last)",
      "\u001b[0;32m<ipython-input-72-1c13833f9e76>\u001b[0m in \u001b[0;36m<module>\u001b[0;34m()\u001b[0m\n\u001b[1;32m      1\u001b[0m cd = Function('cd', \n\u001b[0;32m----> 2\u001b[0;31m               \u001b[0;34m[\u001b[0m\u001b[0mx0\u001b[0m\u001b[0;34m,\u001b[0m \u001b[0mdx0\u001b[0m\u001b[0;34m,\u001b[0m \u001b[0my0\u001b[0m\u001b[0;34m,\u001b[0m \u001b[0mdy0\u001b[0m\u001b[0;34m,\u001b[0m \u001b[0mphix\u001b[0m\u001b[0;34m,\u001b[0m \u001b[0mdphix\u001b[0m\u001b[0;34m,\u001b[0m \u001b[0mphiy\u001b[0m\u001b[0;34m,\u001b[0m \u001b[0mdphiy\u001b[0m\u001b[0;34m]\u001b[0m\u001b[0;34m,\u001b[0m\u001b[0;34m\u001b[0m\u001b[0m\n\u001b[0m\u001b[1;32m      3\u001b[0m              )\n",
      "\u001b[0;32m/home/lars/.local/lib/python2.7/site-packages/casadi/casadi.pyc\u001b[0m in \u001b[0;36m__init__\u001b[0;34m(self, *args)\u001b[0m\n\u001b[1;32m  13688\u001b[0m \u001b[0;34m\u001b[0m\u001b[0m\n\u001b[1;32m  13689\u001b[0m         \"\"\"\n\u001b[0;32m> 13690\u001b[0;31m         \u001b[0mthis\u001b[0m \u001b[0;34m=\u001b[0m \u001b[0m_casadi\u001b[0m\u001b[0;34m.\u001b[0m\u001b[0mnew_Function\u001b[0m\u001b[0;34m(\u001b[0m\u001b[0;34m*\u001b[0m\u001b[0margs\u001b[0m\u001b[0;34m)\u001b[0m\u001b[0;34m\u001b[0m\u001b[0m\n\u001b[0m\u001b[1;32m  13691\u001b[0m         \u001b[0;32mtry\u001b[0m\u001b[0;34m:\u001b[0m\u001b[0;34m\u001b[0m\u001b[0m\n\u001b[1;32m  13692\u001b[0m             \u001b[0mself\u001b[0m\u001b[0;34m.\u001b[0m\u001b[0mthis\u001b[0m\u001b[0;34m.\u001b[0m\u001b[0mappend\u001b[0m\u001b[0;34m(\u001b[0m\u001b[0mthis\u001b[0m\u001b[0;34m)\u001b[0m\u001b[0;34m\u001b[0m\u001b[0m\n",
      "\u001b[0;31mNotImplementedError\u001b[0m: Wrong number or type of arguments for overloaded function 'new_Function'.\n  Possible prototypes are:\n    Function()\n    Function(str)\n    Function(Function)\n    Function(str,[SX],[SX],dict)\n    Function(str,[MX],[MX],dict)\n    Function(str,dict:SX,[str],[str],dict)\n    Function(str,dict:MX,[str],[str],dict)\n    Function(str,[SX],[SX],[str],[str],dict)\n    Function(str,[MX],[MX],[str],[str],dict)\n  You have: '(str,[SX])'\n"
     ]
    }
   ],
   "source": [
    "cd = Function('cd', \n",
    "              [x0, dx0, y0, dy0, phix, dphix, phiy, dphiy],\n",
    "             )"
   ]
  },
  {
   "cell_type": "code",
   "execution_count": 89,
   "metadata": {},
   "outputs": [],
   "source": [
    "\n",
    "kp = cs.SX.sym('kp')\n",
    "kd = cs.SX.sym('kd')\n",
    "L = cs.SX.sym('L')\n",
    "\n",
    "x0 = cs.SX.sym('x0')\n",
    "dx0 = cs.SX.sym('dx0')\n",
    "y0 = cs.SX.sym('y0')\n",
    "dy0 = cs.SX.sym('dy0')\n",
    "phix = cs.SX.sym('phix')\n",
    "dphix = cs.SX.sym('dphix')\n",
    "phiy = cs.SX.sym('phiy')\n",
    "dphiy = cs.SX.sym('dphiy')\n",
    "\n",
    "z = vertcat(x0, dx0, y0, dy0, phix, dphix, phiy, dphiy)\n",
    "k = vertcat(kp, kd)\n",
    "\n",
    "gx = cs.SX.sym('gx')\n",
    "gy = cs.SX.sym('gy')\n",
    "g = vertcat(gx, gy)\n",
    "\n",
    "dzdt = cs.SX.sym('dzdt', 8,1)"
   ]
  },
  {
   "cell_type": "code",
   "execution_count": null,
   "metadata": {},
   "outputs": [],
   "source": []
  },
  {
   "cell_type": "code",
   "execution_count": 93,
   "metadata": {},
   "outputs": [],
   "source": [
    "Q = np.diag([1.0, 1.0, 1.0, 1.0, 0.0, 0.0, 0.0, 0.0, 0.0])  # Eq. 64 in Ecc"
   ]
  },
  {
   "cell_type": "code",
   "execution_count": 97,
   "metadata": {},
   "outputs": [
    {
     "ename": "NotImplementedError",
     "evalue": "Wrong number or type of arguments for overloaded function 'new_SX'.\n  Possible prototypes are:\n    SX()\n    SX(Sparsity)\n    SX(float)\n    SX([[float]])\n    SX([float])\n    SX([int])\n    SX(IM)\n    SX(DM)\n    SX(SX)\n    SX(int,int)\n    SX(Sparsity,SX)\n  You have: '(str,np.array(float))'\n",
     "output_type": "error",
     "traceback": [
      "\u001b[0;31m---------------------------------------------------------------------------\u001b[0m",
      "\u001b[0;31mNotImplementedError\u001b[0m                       Traceback (most recent call last)",
      "\u001b[0;32m<ipython-input-97-f6e016cd2107>\u001b[0m in \u001b[0;36m<module>\u001b[0;34m()\u001b[0m\n\u001b[0;32m----> 1\u001b[0;31m \u001b[0mQ\u001b[0m \u001b[0;34m=\u001b[0m \u001b[0mcs\u001b[0m\u001b[0;34m.\u001b[0m\u001b[0mSX\u001b[0m\u001b[0;34m(\u001b[0m\u001b[0;34m'Q'\u001b[0m\u001b[0;34m,\u001b[0m \u001b[0mnp\u001b[0m\u001b[0;34m.\u001b[0m\u001b[0mdiag\u001b[0m\u001b[0;34m(\u001b[0m\u001b[0;34m[\u001b[0m\u001b[0;36m1.0\u001b[0m\u001b[0;34m,\u001b[0m \u001b[0;36m1.0\u001b[0m\u001b[0;34m,\u001b[0m \u001b[0;36m1.0\u001b[0m\u001b[0;34m,\u001b[0m \u001b[0;36m1.0\u001b[0m\u001b[0;34m,\u001b[0m \u001b[0;36m0.0\u001b[0m\u001b[0;34m,\u001b[0m \u001b[0;36m0.0\u001b[0m\u001b[0;34m,\u001b[0m \u001b[0;36m0.0\u001b[0m\u001b[0;34m,\u001b[0m \u001b[0;36m0.0\u001b[0m\u001b[0;34m,\u001b[0m \u001b[0;36m0.0\u001b[0m\u001b[0;34m]\u001b[0m\u001b[0;34m)\u001b[0m\u001b[0;34m)\u001b[0m\u001b[0;34m\u001b[0m\u001b[0m\n\u001b[0m",
      "\u001b[0;32m/home/lars/.local/lib/python2.7/site-packages/casadi/casadi.pyc\u001b[0m in \u001b[0;36m__init__\u001b[0;34m(self, *args)\u001b[0m\n\u001b[1;32m  10152\u001b[0m \u001b[0;34m\u001b[0m\u001b[0m\n\u001b[1;32m  10153\u001b[0m         \"\"\"\n\u001b[0;32m> 10154\u001b[0;31m         \u001b[0mthis\u001b[0m \u001b[0;34m=\u001b[0m \u001b[0m_casadi\u001b[0m\u001b[0;34m.\u001b[0m\u001b[0mnew_SX\u001b[0m\u001b[0;34m(\u001b[0m\u001b[0;34m*\u001b[0m\u001b[0margs\u001b[0m\u001b[0;34m)\u001b[0m\u001b[0;34m\u001b[0m\u001b[0m\n\u001b[0m\u001b[1;32m  10155\u001b[0m         \u001b[0;32mtry\u001b[0m\u001b[0;34m:\u001b[0m\u001b[0;34m\u001b[0m\u001b[0m\n\u001b[1;32m  10156\u001b[0m             \u001b[0mself\u001b[0m\u001b[0;34m.\u001b[0m\u001b[0mthis\u001b[0m\u001b[0;34m.\u001b[0m\u001b[0mappend\u001b[0m\u001b[0;34m(\u001b[0m\u001b[0mthis\u001b[0m\u001b[0;34m)\u001b[0m\u001b[0;34m\u001b[0m\u001b[0m\n",
      "\u001b[0;31mNotImplementedError\u001b[0m: Wrong number or type of arguments for overloaded function 'new_SX'.\n  Possible prototypes are:\n    SX()\n    SX(Sparsity)\n    SX(float)\n    SX([[float]])\n    SX([float])\n    SX([int])\n    SX(IM)\n    SX(DM)\n    SX(SX)\n    SX(int,int)\n    SX(Sparsity,SX)\n  You have: '(str,np.array(float))'\n"
     ]
    }
   ],
   "source": [
    "Q = cs.SX('Q', np.diag([1.0, 1.0, 1.0, 1.0, 0.0, 0.0, 0.0, 0.0, 0.0]))\n"
   ]
  },
  {
   "cell_type": "code",
   "execution_count": 98,
   "metadata": {},
   "outputs": [],
   "source": [
    "Q = cs.SX.sym('Q', 8, 8)"
   ]
  },
  {
   "cell_type": "code",
   "execution_count": 103,
   "metadata": {},
   "outputs": [],
   "source": [
    "cs.qpsol?"
   ]
  },
  {
   "cell_type": "code",
   "execution_count": 101,
   "metadata": {},
   "outputs": [
    {
     "ename": "TypeError",
     "evalue": "'SX' object is not callable",
     "output_type": "error",
     "traceback": [
      "\u001b[0;31m---------------------------------------------------------------------------\u001b[0m",
      "\u001b[0;31mTypeError\u001b[0m                                 Traceback (most recent call last)",
      "\u001b[0;32m<ipython-input-101-169fa0021c88>\u001b[0m in \u001b[0;36m<module>\u001b[0;34m()\u001b[0m\n\u001b[0;32m----> 1\u001b[0;31m \u001b[0mQ\u001b[0m\u001b[0;34m(\u001b[0m\u001b[0mnp\u001b[0m\u001b[0;34m.\u001b[0m\u001b[0mdiag\u001b[0m\u001b[0;34m(\u001b[0m\u001b[0;34m[\u001b[0m\u001b[0;36m1.0\u001b[0m\u001b[0;34m,\u001b[0m \u001b[0;36m1.0\u001b[0m\u001b[0;34m,\u001b[0m \u001b[0;36m1.0\u001b[0m\u001b[0;34m,\u001b[0m \u001b[0;36m1.0\u001b[0m\u001b[0;34m,\u001b[0m \u001b[0;36m0.0\u001b[0m\u001b[0;34m,\u001b[0m \u001b[0;36m0.0\u001b[0m\u001b[0;34m,\u001b[0m \u001b[0;36m0.0\u001b[0m\u001b[0;34m,\u001b[0m \u001b[0;36m0.0\u001b[0m\u001b[0;34m,\u001b[0m \u001b[0;36m0.0\u001b[0m\u001b[0;34m]\u001b[0m\u001b[0;34m)\u001b[0m\u001b[0;34m)\u001b[0m\u001b[0;34m\u001b[0m\u001b[0m\n\u001b[0m",
      "\u001b[0;31mTypeError\u001b[0m: 'SX' object is not callable"
     ]
    }
   ],
   "source": [
    "Q(np.diag([1.0, 1.0, 1.0, 1.0, 0.0, 0.0, 0.0, 0.0, 0.0]))"
   ]
  },
  {
   "cell_type": "code",
   "execution_count": 87,
   "metadata": {},
   "outputs": [],
   "source": [
    "\n",
    "def continuous_dynamics(z, g, k, L):\n",
    "    kp = k[0]\n",
    "    kd = k[1]\n",
    "    \n",
    "    x0 = z[0]\n",
    "    dx0 = z[1]\n",
    "    y0 = z[2]\n",
    "    dy0 = z[3]\n",
    "    phix = z[4]\n",
    "    dphix = z[5]\n",
    "    phiy = z[6]\n",
    "    dphiy = z[7]\n",
    "    \n",
    "    cx = cs.SX.cos(phix)\n",
    "    sx = cs.SX.sin(phix)\n",
    "    cy = cs.SX.cos(phiy)\n",
    "    sy = cs.SX.sin(phiy)\n",
    "\n",
    "    gx = g[0]\n",
    "    gy = g[1]\n",
    "\n",
    "    uy = - L*cy/cx*(kd*dphix + kp*phix) - 2.0*L*sy / \\\n",
    "        cx*dphix*dphiy + 9.81*sx*sy*sy/cx\n",
    "\n",
    "    # Eq 51-54 in Ecc\n",
    "    dzdt = np.zeros(8)\n",
    "    dzdt[0] = dx0  # dx0\n",
    "    dzdt[1] = gx + (L*(kd*dphiy + kp*phiy) - L*cy*sy *\n",
    "                    dphix*dphix - uy*sx*sy)/cy  # ddx0\n",
    "    dzdt[2] = dy0  # dy0\n",
    "    dzdt[3] = gy - (L*cy*(kd*dphix + kp*phix) + 2.0*L*sy *\n",
    "                    dphix*dphiy - 9.81*sx*sy*sy)/cx  # ddy0\n",
    "    dzdt[4] = z[5]  # dphix\n",
    "    dzdt[5] = (-kd*dphix) - (kp*phix) - \\\n",
    "        (9.81/L*cy*sx) + (gy*cx/(cy*L))  # ddphix\n",
    "    dzdt[6] = z[7]  # dphiy\n",
    "    dzdt[7] = (-kd*dphiy) - (kp*phiy) - (9.81 / L * cx*sy) - \\\n",
    "        ((gx*cy + gy*sx*sy)/L)  # ddphiy\n",
    "    return dzdt"
   ]
  },
  {
   "cell_type": "code",
   "execution_count": 88,
   "metadata": {},
   "outputs": [
    {
     "data": {
      "text/plain": [
       "array([ nan,  nan,  nan,  nan,  nan,  nan,  nan,  nan])"
      ]
     },
     "execution_count": 88,
     "metadata": {},
     "output_type": "execute_result"
    }
   ],
   "source": [
    "continuous_dynamics(z, g, k, L)"
   ]
  },
  {
   "cell_type": "code",
   "execution_count": null,
   "metadata": {},
   "outputs": [],
   "source": []
  }
 ],
 "metadata": {
  "kernelspec": {
   "display_name": "Python 2",
   "language": "python",
   "name": "python2"
  },
  "language_info": {
   "codemirror_mode": {
    "name": "ipython",
    "version": 2
   },
   "file_extension": ".py",
   "mimetype": "text/x-python",
   "name": "python",
   "nbconvert_exporter": "python",
   "pygments_lexer": "ipython2",
   "version": "2.7.15rc1"
  }
 },
 "nbformat": 4,
 "nbformat_minor": 2
}
